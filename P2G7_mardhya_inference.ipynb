{
 "cells": [
  {
   "cell_type": "markdown",
   "metadata": {},
   "source": [
    "## Inference"
   ]
  },
  {
   "cell_type": "markdown",
   "metadata": {},
   "source": [
    "Setelah menyimpan model dalam bentuk file, kita bisa memanggilnya kembali untuk menguji bagaimana model melakukan prediksi. Ini sangat membantu untuk mengevaluasi seberapa baik model bekerja dan bagaimana kemampuannya memprediksi data baru. Dengan cara ini, kita bisa menilai seberapa akurat model dalam menghadapi situasi dunia nyata. Proses ini menjadi kunci untuk memastikan dan menguji model GRU yang sudah kita latih sebelumnya."
   ]
  },
  {
   "cell_type": "code",
   "execution_count": 2,
   "metadata": {},
   "outputs": [
    {
     "name": "stdout",
     "output_type": "stream",
     "text": [
      "1/1 [==============================] - 2s 2s/step\n",
      "Input Text: you are amazing\n",
      "Predicted Class: 1\n",
      "Predicted Label: Positive\n",
      "Prediction Probabilities: [0.18456388 0.5119029  0.3035332 ]\n",
      "\n",
      "Result DataFrame:\n",
      "        Input Text  Predicted Class Predicted Label  \\\n",
      "0  you are amazing                1        Positive   \n",
      "\n",
      "             Prediction Probabilities  \n",
      "0  [0.18456388, 0.5119029, 0.3035332]  \n"
     ]
    }
   ],
   "source": [
    "import pandas as pd\n",
    "from keras.models import load_model\n",
    "import numpy as np\n",
    "\n",
    "# Load Model\n",
    "model = load_model('model_gru_2')\n",
    "\n",
    "# Input Text\n",
    "input_text = \"you are amazing\"\n",
    "\n",
    "# Make a prediction using model\n",
    "predictions = model.predict(np.array([input_text]))\n",
    "\n",
    "predicted_class = np.argmax(predictions[0])\n",
    "\n",
    "# Map predicted class to labels\n",
    "class_labels = {0: 'Negative', 1: 'Positive', 2: 'Neutral'}\n",
    "predicted_label = class_labels[predicted_class]\n",
    "\n",
    "# Display the results\n",
    "print(\"Input Text:\", input_text)\n",
    "print(\"Predicted Class:\", predicted_class)\n",
    "print(\"Predicted Label:\", predicted_label)\n",
    "print(\"Prediction Probabilities:\", predictions[0])\n",
    "\n",
    "# Create a DataFrame to store the results\n",
    "columns = ['Input Text', 'Predicted Class', 'Predicted Label', 'Prediction Probabilities']\n",
    "data = [[input_text, predicted_class, predicted_label, predictions[0]]]\n",
    "result_df = pd.DataFrame(data, columns=columns)\n",
    "\n",
    "# Display the DataFrame\n",
    "print(\"\\nResult DataFrame:\")\n",
    "print(result_df)\n"
   ]
  },
  {
   "cell_type": "markdown",
   "metadata": {},
   "source": [
    "**insight** :\n",
    "\n",
    "1. Proses inferensi data bertujuan untuk menguji sejauh mana mengklasifikasikan sentimen dari teks yang diberikan, serta sejauh mana model yakin dengan prediksi yang dihasilkan menggunakan dummy data.\n",
    "2. pada data inference. dummy Teks yang digunakan sebagai input untuk model adalah \"`you are amazing`\", Kelas yang diprediksi oleh model adalah kelas dengan nilai 1, Label yang sesuai dengan kelas yang diprediksi adalah \"Positive\". Dalam konteks ini, kelas 1 diinterpretasikan sebagai sentimen positif. jika dilihat dari Probabilitas prediksi untuk masing-masing kelas. Dalam hal ini, model memberikan probabilitas sekitar 18.46% untuk kelas 0 (Negatif), 51.19% untuk kelas 1 (Positif), dan 30.35% untuk kelas 2 (Netral). maka dari itu model di prediksi sebagai class 1 atau Positive"
   ]
  }
 ],
 "metadata": {
  "kernelspec": {
   "display_name": "base",
   "language": "python",
   "name": "python3"
  },
  "language_info": {
   "codemirror_mode": {
    "name": "ipython",
    "version": 3
   },
   "file_extension": ".py",
   "mimetype": "text/x-python",
   "name": "python",
   "nbconvert_exporter": "python",
   "pygments_lexer": "ipython3",
   "version": "3.11.5"
  }
 },
 "nbformat": 4,
 "nbformat_minor": 2
}
